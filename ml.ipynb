{
 "cells": [
  {
   "cell_type": "code",
   "execution_count": null,
   "metadata": {},
   "outputs": [],
   "source": [
    "import numpy as np\n",
    "import pandas as pd\n",
    "from sklearn.model_selection import train_test_split\n",
    "from sklearn.preprocessing import StandardScaler\n",
    "from sklearn.metrics import confusion_matrix, accuracy_score\n",
    "import seaborn as sns\n",
    "import matplotlib.pyplot as plt\n",
    "from sklearn.linear_model import LogisticRegression\n",
    "from sklearn.metrics import classification_report\n",
    "from sklearn.svm import SVC\n",
    "from sklearn.tree import DecisionTreeClassifier\n",
    "from sklearn.neighbors import KNeighborsClassifier\n",
    "from pandas.plotting import scatter_matrix\n",
    "import plotly.express as px\n",
    "import plotly.graph_objects as go\n",
    "import plotly.figure_factory as ff\n",
    "from plotly.offline import download_plotlyjs, init_notebook_mode,  plot\n",
    "from plotly.graph_objs import *\n",
    "from sklearn import preprocessing"
   ]
  },
  {
   "cell_type": "code",
   "execution_count": null,
   "metadata": {},
   "outputs": [],
   "source": [
    "dataset = pd.read_csv(r\"C:\ml\parkinsondataset.csv\") #read the dataset\n",
    "\n",
    "dataset.info() # get info of the dataset\n",
    "dataset.describe()\n",
    "\n",
    "plt.figure(figsize=(20,15))\n",
    "sns.heatmap(dataset.corr(), annot=True)\n",
    "plt.show()\n",
    "correlations = dataset.corr()# visualize heatmap of the correlations\n",
    "scatter_matrix(dataset, alpha = 0.2, figsize=(60,60), diagonal = 'kde') # Visualize all correlations with plots\n",
    "print(sns.distplot(dataset))# Visualize all distributions with plot"
   ]
  },
  {
   "cell_type": "code",
   "execution_count": null,
   "metadata": {},
   "outputs": [],
   "source": [
    "#check distrinutions of some important features (age and rpde)\n",
    "dataset.info()\n",
    "hist_data = [dataset['age']]\n",
    "group_labels = ['age'] \n",
    "fig = ff.create_distplot(hist_data, group_labels)\n",
    "#plot(fig)\n",
    "hist_data = [dataset['RPDE']]\n",
    "group_labels = ['RPDE'] \n",
    "fig = ff.create_distplot(hist_data, group_labels)\n",
    "#plot(fig)"
   ]
  },
  {
   "cell_type": "code",
   "execution_count": null,
   "metadata": {},
   "outputs": [],
   "source": [
    "#Check the balance\n",
    "dependent_analysis = dataset['result'].value_counts(normalize=True) * 100\n",
    "print(dependent_analysis)\n",
    "\n",
    "class_count_01, class_count_02 = dataset['result'].value_counts()\n",
    "dataset['result'].value_counts().plot(kind='bar', title='count (target)')\n",
    "\n",
    "print('class 0:', class_count_01)\n",
    "print('class 1:', class_count_02)"
   ]
  },
  {
   "cell_type": "code",
   "execution_count": null,
   "metadata": {},
   "outputs": [],
   "source": [
    "y = dataset['result'].values\n",
    "X = dataset.drop(['result'], axis='columns').values\n",
    "\n",
    "X_train, X_test, y_train, y_test = train_test_split(X, y, test_size = 0.3)  #split data\n",
    "sc = StandardScaler() #scale data with mean value and standard deviation\n",
    "X_train = sc.fit_transform(X_train)\n",
    "X_test = sc.transform(X_test)"
   ]
  },
  {
   "cell_type": "code",
   "execution_count": null,
   "metadata": {},
   "outputs": [],
   "source": [
    "#SVM\n",
    "classifier = SVC(kernel = 'rbf', probability=True)\n",
    "classifier.fit(X_train, y_train) #train model\n",
    "y_pred = classifier.predict(X_test) #predict\n",
    "cm1 = confusion_matrix(y_test, y_pred)\n",
    "print(cm1)\n",
    "print(accuracy_score(y_test, y_pred))\n",
    "report = classification_report(y_test, y_pred) #evaluate\n",
    "print(report)\n",
    "print(\"Training set score: {:.3f}\".format(classifier.score(X_train,y_train)))\n",
    "print(\"Test set score: {:.3f}\".format(classifier.score(X_test,y_test)))"
   ]
  },
  {
   "cell_type": "code",
   "execution_count": null,
   "metadata": {},
   "outputs": [],
   "source": [
    "#Decision Tree\n",
    "classifier2 = DecisionTreeClassifier(criterion = 'entropy')\n",
    "classifier2.fit(X_train, y_train) #train model\n",
    "y_pred = classifier2.predict(X_test)#predict\n",
    "cm = confusion_matrix(y_test, y_pred)\n",
    "print(cm)\n",
    "print(accuracy_score(y_test, y_pred))\n",
    "report = classification_report(y_test, y_pred)#evaluate\n",
    "print(report)\n",
    "print(\"Training set score: {:.3f}\".format(classifier2.score(X_train,y_train)))\n",
    "print(\"Test set score: {:.3f}\".format(classifier2.score(X_test,y_test)))\n",
    "#Decision tree has overfitting "
   ]
  },
  {
   "cell_type": "code",
   "execution_count": null,
   "metadata": {},
   "outputs": [],
   "source": [
    "#kNN\n",
    "classifier4 = KNeighborsClassifier(n_neighbors = 2, metric = 'minkowski', p = 2)\n",
    "classifier4.fit(X_train, y_train) #train model\n",
    "y_pred = classifier4.predict(X_test)#predict\n",
    "cm = confusion_matrix(y_test, y_pred)\n",
    "print(cm)\n",
    "print(accuracy_score(y_test, y_pred))\n",
    "report = classification_report(y_test, y_pred)#evaluate\n",
    "print(report)\n",
    "print(\"Training set score: {:.3f}\".format(classifier4.score(X_train,y_train)))\n",
    "print(\"Test set score: {:.3f}\".format(classifier4.score(X_test,y_test)))\n",
    "\n",
    "#kNN has better f1 score, so we choose him"
   ]
  },
  {
   "cell_type": "code",
   "execution_count": null,
   "metadata": {},
   "outputs": [],
   "source": []
  },
  {
   "cell_type": "code",
   "execution_count": null,
   "metadata": {},
   "outputs": [],
   "source": []
  },
  {
   "cell_type": "code",
   "execution_count": null,
   "metadata": {},
   "outputs": [],
   "source": []
  },
  {
   "cell_type": "code",
   "execution_count": null,
   "metadata": {},
   "outputs": [],
   "source": []
  }
 ],
 "metadata": {
  "kernelspec": {
   "display_name": "Python 3",
   "language": "python",
   "name": "python3"
  },
  "language_info": {
   "codemirror_mode": {
    "name": "ipython",
    "version": 3
   },
   "file_extension": ".py",
   "mimetype": "text/x-python",
   "name": "python",
   "nbconvert_exporter": "python",
   "pygments_lexer": "ipython3",
   "version": "3.8.5"
  }
 },
 "nbformat": 4,
 "nbformat_minor": 4
}
